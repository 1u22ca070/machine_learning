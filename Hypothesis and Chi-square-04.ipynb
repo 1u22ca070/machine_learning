{
 "cells": [
  {
   "cell_type": "markdown",
   "id": "9c8a4a6e-d2f9-4a1e-9952-2db14ce5f1a8",
   "metadata": {},
   "source": [
    "HYPOTHESIS TESTING "
   ]
  },
  {
   "cell_type": "code",
   "execution_count": 2,
   "id": "85543ae4-5112-4efe-89ea-8dffa6d061b0",
   "metadata": {},
   "outputs": [],
   "source": [
    "import scipy.stats as stats\n",
    "import math"
   ]
  },
  {
   "cell_type": "code",
   "execution_count": 4,
   "id": "69c6e65f-ebaf-452c-8e47-97d233fa65d0",
   "metadata": {},
   "outputs": [],
   "source": [
    "# Null hypothesis:The weekly operating costs follow the theoretical model, i.e\n",
    "# the costs are equal to what the model predicts for 600 units produced.\n",
    "#H0:μ=3050Rs."
   ]
  },
  {
   "cell_type": "code",
   "execution_count": 5,
   "id": "9026e330-b030-4182-b977-b02c8eba0240",
   "metadata": {},
   "outputs": [],
   "source": [
    "#Decision:\n",
    "#Since the calculated t-statistic (-38.0) is much less than the critical value (1.645), we fail to reject the null hypothesis."
   ]
  },
  {
   "cell_type": "code",
   "execution_count": 6,
   "id": "c39de227-12c8-4ee4-8a60-062ca6453d30",
   "metadata": {},
   "outputs": [],
   "source": [
    "#Conclusion:\n",
    "#There is no strong evidence to support the restaurant owners' claim that the weekly operating costs are higher than the model suggests. ​"
   ]
  },
  {
   "cell_type": "code",
   "execution_count": 7,
   "id": "8d6a8b2c-bcb9-4db6-b3c2-9516614a5b7e",
   "metadata": {},
   "outputs": [],
   "source": [
    "# Alternative Hypothesis H1:The weekly operating costs are higher than the theoretical model, i.e\n",
    "# the costs exceed what the model predicts for 600 units produced.\n",
    "# H1:μ>3050Rs."
   ]
  },
  {
   "cell_type": "code",
   "execution_count": 10,
   "id": "14125d9b-63e9-4f2c-b02e-89e011bfeb23",
   "metadata": {},
   "outputs": [],
   "source": [
    "sample_mean = 3050  \n",
    "X_mean = 600 \n",
    "unit_std_dev = 25  \n",
    "sample_size = 25  \n",
    "cost_per_unit = 5  \n",
    "fixed_cost = 1000  \n",
    "alpha = 0.05"
   ]
  },
  {
   "cell_type": "code",
   "execution_count": 12,
   "id": "06050a11-3b67-4d5c-95c2-93161dbbbdfb",
   "metadata": {},
   "outputs": [],
   "source": [
    "theoretical_mean_cost = fixed_cost + cost_per_unit * X_mean"
   ]
  },
  {
   "cell_type": "code",
   "execution_count": 13,
   "id": "bf358425-ede3-474e-80a7-d89742b559fd",
   "metadata": {},
   "outputs": [],
   "source": [
    "std_dev = cost_per_unit * unit_std_dev  \n",
    "std_error = std_dev / math.sqrt(sample_size)"
   ]
  },
  {
   "cell_type": "code",
   "execution_count": 20,
   "id": "99af9077-727f-45bd-b343-76a30af604f8",
   "metadata": {},
   "outputs": [],
   "source": [
    "t_statistic = (sample_mean - theoretical_mean_cost) / std_error"
   ]
  },
  {
   "cell_type": "code",
   "execution_count": 21,
   "id": "84b31013-e754-4732-9a7b-bf2b460ea2b1",
   "metadata": {},
   "outputs": [],
   "source": [
    "z_critical = stats.norm.ppf(1 - alpha)"
   ]
  },
  {
   "cell_type": "code",
   "execution_count": 23,
   "id": "2958ba2e-8a0a-4f42-80ef-03d24a4e577b",
   "metadata": {},
   "outputs": [
    {
     "name": "stdout",
     "output_type": "stream",
     "text": [
      "T-statistic: -38.0\n",
      "Critical value (Z) at alpha = 0.05: 1.6448536269514722\n"
     ]
    }
   ],
   "source": [
    "print(f\"T-statistic: {t_statistic}\")\n",
    "print(f\"Critical value (Z) at alpha = 0.05: {z_critical}\")"
   ]
  },
  {
   "cell_type": "code",
   "execution_count": 26,
   "id": "41b21218-d565-47e9-b6a0-b5cc3c3349f2",
   "metadata": {},
   "outputs": [
    {
     "name": "stdout",
     "output_type": "stream",
     "text": [
      "Reject the null hypothesis: Operating costs are higher than the model suggests.\n"
     ]
    }
   ],
   "source": [
    "if t_statistic < -z_critical:\n",
    "    print(\"Reject the null hypothesis: Operating costs are higher than the model suggests.\")\n",
    "else:\n",
    "    print(\"Fail to reject the null hypothesis: No evidence that operating costs are higher than the model suggests.\")"
   ]
  },
  {
   "cell_type": "code",
   "execution_count": null,
   "id": "5b713da6-994b-4096-9000-44eeb2d849c8",
   "metadata": {},
   "outputs": [],
   "source": []
  },
  {
   "cell_type": "code",
   "execution_count": null,
   "id": "cfff1e32-6ef1-4031-806e-13b51ab7e532",
   "metadata": {},
   "outputs": [],
   "source": []
  },
  {
   "cell_type": "markdown",
   "id": "e6043a71-c5c0-4a2f-bd0e-5d1316870d02",
   "metadata": {},
   "source": [
    "CHI-SQUARE TEST\n"
   ]
  },
  {
   "cell_type": "code",
   "execution_count": 28,
   "id": "b4260459-9eea-4533-8109-012b7b359fad",
   "metadata": {},
   "outputs": [],
   "source": [
    "# NuLl hypothesis (H0): there is no significant association between the type of device\n",
    "# purchased and the customer's satification level"
   ]
  },
  {
   "cell_type": "code",
   "execution_count": 30,
   "id": "5a75b0fc-ca74-42db-b161-5790c5a8b2c1",
   "metadata": {},
   "outputs": [],
   "source": [
    "# Alternative Hypothesis (H1): there is a significant association between the type of device \n",
    "# purchased and the customer's satisfication level\n"
   ]
  },
  {
   "cell_type": "code",
   "execution_count": 32,
   "id": "79e80f22-790b-4520-845e-8241c7f5e727",
   "metadata": {},
   "outputs": [],
   "source": [
    "import numpy as np\n",
    "from scipy.stats import chi2_contingency"
   ]
  },
  {
   "cell_type": "code",
   "execution_count": 34,
   "id": "a2347751-ff71-49ea-801e-123537407b19",
   "metadata": {},
   "outputs": [],
   "source": [
    "data = np.array([[50, 70],   \n",
    "                 [80, 100],  \n",
    "                 [60, 90],  \n",
    "                 [30, 50],   \n",
    "                 [20, 50]]) "
   ]
  },
  {
   "cell_type": "code",
   "execution_count": 36,
   "id": "e2ea9745-1633-4b54-9b82-68fa477dbc72",
   "metadata": {},
   "outputs": [],
   "source": [
    "chi2, p, dof, expected = chi2_contingency(data)"
   ]
  },
  {
   "cell_type": "code",
   "execution_count": 38,
   "id": "b5ca14e7-9a90-499c-8718-506507bd3aa1",
   "metadata": {},
   "outputs": [
    {
     "name": "stdout",
     "output_type": "stream",
     "text": [
      "Degrees of Freedom: 4\n"
     ]
    }
   ],
   "source": [
    "print(f\"Degrees of Freedom: {dof}\")"
   ]
  },
  {
   "cell_type": "code",
   "execution_count": 40,
   "id": "b0116d0a-5be1-4c5a-a436-eccf741724c8",
   "metadata": {},
   "outputs": [
    {
     "name": "stdout",
     "output_type": "stream",
     "text": [
      "Chi-Square Statistic: 5.638227513227513\n"
     ]
    }
   ],
   "source": [
    "print(f\"Chi-Square Statistic: {chi2}\")"
   ]
  },
  {
   "cell_type": "code",
   "execution_count": 42,
   "id": "3c240666-ce2c-449e-b935-f35ccf8836d0",
   "metadata": {},
   "outputs": [
    {
     "name": "stdout",
     "output_type": "stream",
     "text": [
      "p-value: 0.22784371130697179\n"
     ]
    }
   ],
   "source": [
    "print(f\"p-value: {p}\")"
   ]
  },
  {
   "cell_type": "code",
   "execution_count": 44,
   "id": "f29b1afa-4552-414c-abe5-7874be0d75ef",
   "metadata": {},
   "outputs": [],
   "source": [
    "from scipy.stats import chi2 as chi2_dist\n",
    "alpha = 0.05\n",
    "critical_value = chi2_dist.ppf(1 - alpha, dof)"
   ]
  },
  {
   "cell_type": "code",
   "execution_count": 46,
   "id": "ba851c6f-bbbd-442f-a445-a9c256d316aa",
   "metadata": {},
   "outputs": [
    {
     "name": "stdout",
     "output_type": "stream",
     "text": [
      "Critical Value at alpha = 0.05: 9.487729036781154\n"
     ]
    }
   ],
   "source": [
    "print(f\"Critical Value at alpha = 0.05: {critical_value}\")"
   ]
  },
  {
   "cell_type": "code",
   "execution_count": 49,
   "id": "c323d4cd-1ad6-4ae7-b2a6-f86cb105b07c",
   "metadata": {},
   "outputs": [
    {
     "name": "stdout",
     "output_type": "stream",
     "text": [
      "Fail to reject the null hypothesis: No significant association between device type and satisfaction level.\n"
     ]
    }
   ],
   "source": [
    "if chi2 > critical_value:\n",
    "    print(\"Reject the null hypothesis: There is a significant association between device type and satisfaction level.\")\n",
    "else:\n",
    "    print(\"Fail to reject the null hypothesis: No significant association between device type and satisfaction level.\")"
   ]
  },
  {
   "cell_type": "code",
   "execution_count": null,
   "id": "510eed34-6c79-4330-b7e9-9d28167b8e97",
   "metadata": {},
   "outputs": [],
   "source": []
  }
 ],
 "metadata": {
  "kernelspec": {
   "display_name": "Python 3 (ipykernel)",
   "language": "python",
   "name": "python3"
  },
  "language_info": {
   "codemirror_mode": {
    "name": "ipython",
    "version": 3
   },
   "file_extension": ".py",
   "mimetype": "text/x-python",
   "name": "python",
   "nbconvert_exporter": "python",
   "pygments_lexer": "ipython3",
   "version": "3.13.5"
  }
 },
 "nbformat": 4,
 "nbformat_minor": 5
}
