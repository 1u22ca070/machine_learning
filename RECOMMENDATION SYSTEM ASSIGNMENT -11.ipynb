{
 "cells": [
  {
   "cell_type": "markdown",
   "id": "afe512c1-dd42-48d1-8e6b-6429389d20b6",
   "metadata": {},
   "source": [
    "## RECOMMENDATION SYSTEM"
   ]
  },
  {
   "cell_type": "code",
   "execution_count": 1,
   "id": "33c732e5-770e-45e0-978b-fcf1ecd14a2b",
   "metadata": {},
   "outputs": [
    {
     "data": {
      "text/html": [
       "<div>\n",
       "<style scoped>\n",
       "    .dataframe tbody tr th:only-of-type {\n",
       "        vertical-align: middle;\n",
       "    }\n",
       "\n",
       "    .dataframe tbody tr th {\n",
       "        vertical-align: top;\n",
       "    }\n",
       "\n",
       "    .dataframe thead th {\n",
       "        text-align: right;\n",
       "    }\n",
       "</style>\n",
       "<table border=\"1\" class=\"dataframe\">\n",
       "  <thead>\n",
       "    <tr style=\"text-align: right;\">\n",
       "      <th></th>\n",
       "      <th>anime_id</th>\n",
       "      <th>name</th>\n",
       "      <th>genre</th>\n",
       "      <th>type</th>\n",
       "      <th>episodes</th>\n",
       "      <th>rating</th>\n",
       "      <th>members</th>\n",
       "    </tr>\n",
       "  </thead>\n",
       "  <tbody>\n",
       "    <tr>\n",
       "      <th>0</th>\n",
       "      <td>32281</td>\n",
       "      <td>Kimi no Na wa.</td>\n",
       "      <td>Drama, Romance, School, Supernatural</td>\n",
       "      <td>Movie</td>\n",
       "      <td>1</td>\n",
       "      <td>9.37</td>\n",
       "      <td>200630</td>\n",
       "    </tr>\n",
       "    <tr>\n",
       "      <th>1</th>\n",
       "      <td>5114</td>\n",
       "      <td>Fullmetal Alchemist: Brotherhood</td>\n",
       "      <td>Action, Adventure, Drama, Fantasy, Magic, Mili...</td>\n",
       "      <td>TV</td>\n",
       "      <td>64</td>\n",
       "      <td>9.26</td>\n",
       "      <td>793665</td>\n",
       "    </tr>\n",
       "    <tr>\n",
       "      <th>2</th>\n",
       "      <td>28977</td>\n",
       "      <td>Gintama°</td>\n",
       "      <td>Action, Comedy, Historical, Parody, Samurai, S...</td>\n",
       "      <td>TV</td>\n",
       "      <td>51</td>\n",
       "      <td>9.25</td>\n",
       "      <td>114262</td>\n",
       "    </tr>\n",
       "    <tr>\n",
       "      <th>3</th>\n",
       "      <td>9253</td>\n",
       "      <td>Steins;Gate</td>\n",
       "      <td>Sci-Fi, Thriller</td>\n",
       "      <td>TV</td>\n",
       "      <td>24</td>\n",
       "      <td>9.17</td>\n",
       "      <td>673572</td>\n",
       "    </tr>\n",
       "    <tr>\n",
       "      <th>4</th>\n",
       "      <td>9969</td>\n",
       "      <td>Gintama&amp;#039;</td>\n",
       "      <td>Action, Comedy, Historical, Parody, Samurai, S...</td>\n",
       "      <td>TV</td>\n",
       "      <td>51</td>\n",
       "      <td>9.16</td>\n",
       "      <td>151266</td>\n",
       "    </tr>\n",
       "    <tr>\n",
       "      <th>...</th>\n",
       "      <td>...</td>\n",
       "      <td>...</td>\n",
       "      <td>...</td>\n",
       "      <td>...</td>\n",
       "      <td>...</td>\n",
       "      <td>...</td>\n",
       "      <td>...</td>\n",
       "    </tr>\n",
       "    <tr>\n",
       "      <th>12289</th>\n",
       "      <td>9316</td>\n",
       "      <td>Toushindai My Lover: Minami tai Mecha-Minami</td>\n",
       "      <td>Hentai</td>\n",
       "      <td>OVA</td>\n",
       "      <td>1</td>\n",
       "      <td>4.15</td>\n",
       "      <td>211</td>\n",
       "    </tr>\n",
       "    <tr>\n",
       "      <th>12290</th>\n",
       "      <td>5543</td>\n",
       "      <td>Under World</td>\n",
       "      <td>Hentai</td>\n",
       "      <td>OVA</td>\n",
       "      <td>1</td>\n",
       "      <td>4.28</td>\n",
       "      <td>183</td>\n",
       "    </tr>\n",
       "    <tr>\n",
       "      <th>12291</th>\n",
       "      <td>5621</td>\n",
       "      <td>Violence Gekiga David no Hoshi</td>\n",
       "      <td>Hentai</td>\n",
       "      <td>OVA</td>\n",
       "      <td>4</td>\n",
       "      <td>4.88</td>\n",
       "      <td>219</td>\n",
       "    </tr>\n",
       "    <tr>\n",
       "      <th>12292</th>\n",
       "      <td>6133</td>\n",
       "      <td>Violence Gekiga Shin David no Hoshi: Inma Dens...</td>\n",
       "      <td>Hentai</td>\n",
       "      <td>OVA</td>\n",
       "      <td>1</td>\n",
       "      <td>4.98</td>\n",
       "      <td>175</td>\n",
       "    </tr>\n",
       "    <tr>\n",
       "      <th>12293</th>\n",
       "      <td>26081</td>\n",
       "      <td>Yasuji no Pornorama: Yacchimae!!</td>\n",
       "      <td>Hentai</td>\n",
       "      <td>Movie</td>\n",
       "      <td>1</td>\n",
       "      <td>5.46</td>\n",
       "      <td>142</td>\n",
       "    </tr>\n",
       "  </tbody>\n",
       "</table>\n",
       "<p>12294 rows × 7 columns</p>\n",
       "</div>"
      ],
      "text/plain": [
       "       anime_id                                               name  \\\n",
       "0         32281                                     Kimi no Na wa.   \n",
       "1          5114                   Fullmetal Alchemist: Brotherhood   \n",
       "2         28977                                           Gintama°   \n",
       "3          9253                                        Steins;Gate   \n",
       "4          9969                                      Gintama&#039;   \n",
       "...         ...                                                ...   \n",
       "12289      9316       Toushindai My Lover: Minami tai Mecha-Minami   \n",
       "12290      5543                                        Under World   \n",
       "12291      5621                     Violence Gekiga David no Hoshi   \n",
       "12292      6133  Violence Gekiga Shin David no Hoshi: Inma Dens...   \n",
       "12293     26081                   Yasuji no Pornorama: Yacchimae!!   \n",
       "\n",
       "                                                   genre   type episodes  \\\n",
       "0                   Drama, Romance, School, Supernatural  Movie        1   \n",
       "1      Action, Adventure, Drama, Fantasy, Magic, Mili...     TV       64   \n",
       "2      Action, Comedy, Historical, Parody, Samurai, S...     TV       51   \n",
       "3                                       Sci-Fi, Thriller     TV       24   \n",
       "4      Action, Comedy, Historical, Parody, Samurai, S...     TV       51   \n",
       "...                                                  ...    ...      ...   \n",
       "12289                                             Hentai    OVA        1   \n",
       "12290                                             Hentai    OVA        1   \n",
       "12291                                             Hentai    OVA        4   \n",
       "12292                                             Hentai    OVA        1   \n",
       "12293                                             Hentai  Movie        1   \n",
       "\n",
       "       rating  members  \n",
       "0        9.37   200630  \n",
       "1        9.26   793665  \n",
       "2        9.25   114262  \n",
       "3        9.17   673572  \n",
       "4        9.16   151266  \n",
       "...       ...      ...  \n",
       "12289    4.15      211  \n",
       "12290    4.28      183  \n",
       "12291    4.88      219  \n",
       "12292    4.98      175  \n",
       "12293    5.46      142  \n",
       "\n",
       "[12294 rows x 7 columns]"
      ]
     },
     "execution_count": 1,
     "metadata": {},
     "output_type": "execute_result"
    }
   ],
   "source": [
    "import pandas as pd\n",
    "df=pd.read_csv(r\"C:\\Users\\sachi\\OneDrive\\Excler Data science dr.Ganashree\\CSV_Files\\anime.csv\")\n",
    "df"
   ]
  },
  {
   "cell_type": "code",
   "execution_count": 104,
   "id": "f39138c5-a02c-402a-9dc6-5cc4243db0af",
   "metadata": {},
   "outputs": [
    {
     "data": {
      "text/plain": [
       "Index(['anime_id', 'name', 'genre', 'type', 'episodes', 'rating', 'members'], dtype='object')"
      ]
     },
     "execution_count": 104,
     "metadata": {},
     "output_type": "execute_result"
    }
   ],
   "source": [
    "df.columns"
   ]
  },
  {
   "cell_type": "code",
   "execution_count": 106,
   "id": "988d4580-8c48-4c7b-92a1-bb371e17844e",
   "metadata": {},
   "outputs": [
    {
     "data": {
      "text/plain": [
       "(12294, 7)"
      ]
     },
     "execution_count": 106,
     "metadata": {},
     "output_type": "execute_result"
    }
   ],
   "source": [
    "df.shape"
   ]
  },
  {
   "cell_type": "code",
   "execution_count": 108,
   "id": "107c73eb-e792-4b16-8973-ef44744361b0",
   "metadata": {},
   "outputs": [
    {
     "data": {
      "text/plain": [
       "anime_id      0\n",
       "name          0\n",
       "genre        62\n",
       "type         25\n",
       "episodes      0\n",
       "rating      230\n",
       "members       0\n",
       "dtype: int64"
      ]
     },
     "execution_count": 108,
     "metadata": {},
     "output_type": "execute_result"
    }
   ],
   "source": [
    "df.isnull().sum()"
   ]
  },
  {
   "cell_type": "code",
   "execution_count": 110,
   "id": "067802ed-202a-4500-9213-2a8a2b5d2887",
   "metadata": {},
   "outputs": [
    {
     "data": {
      "text/html": [
       "<div>\n",
       "<style scoped>\n",
       "    .dataframe tbody tr th:only-of-type {\n",
       "        vertical-align: middle;\n",
       "    }\n",
       "\n",
       "    .dataframe tbody tr th {\n",
       "        vertical-align: top;\n",
       "    }\n",
       "\n",
       "    .dataframe thead th {\n",
       "        text-align: right;\n",
       "    }\n",
       "</style>\n",
       "<table border=\"1\" class=\"dataframe\">\n",
       "  <thead>\n",
       "    <tr style=\"text-align: right;\">\n",
       "      <th></th>\n",
       "      <th>anime_id</th>\n",
       "      <th>name</th>\n",
       "      <th>genre</th>\n",
       "      <th>type</th>\n",
       "      <th>episodes</th>\n",
       "      <th>rating</th>\n",
       "      <th>members</th>\n",
       "    </tr>\n",
       "  </thead>\n",
       "  <tbody>\n",
       "    <tr>\n",
       "      <th>0</th>\n",
       "      <td>32281</td>\n",
       "      <td>Kimi no Na wa.</td>\n",
       "      <td>Drama, Romance, School, Supernatural</td>\n",
       "      <td>Movie</td>\n",
       "      <td>1</td>\n",
       "      <td>9.37</td>\n",
       "      <td>200630</td>\n",
       "    </tr>\n",
       "    <tr>\n",
       "      <th>1</th>\n",
       "      <td>5114</td>\n",
       "      <td>Fullmetal Alchemist: Brotherhood</td>\n",
       "      <td>Action, Adventure, Drama, Fantasy, Magic, Mili...</td>\n",
       "      <td>TV</td>\n",
       "      <td>64</td>\n",
       "      <td>9.26</td>\n",
       "      <td>793665</td>\n",
       "    </tr>\n",
       "    <tr>\n",
       "      <th>2</th>\n",
       "      <td>28977</td>\n",
       "      <td>Gintama°</td>\n",
       "      <td>Action, Comedy, Historical, Parody, Samurai, S...</td>\n",
       "      <td>TV</td>\n",
       "      <td>51</td>\n",
       "      <td>9.25</td>\n",
       "      <td>114262</td>\n",
       "    </tr>\n",
       "    <tr>\n",
       "      <th>3</th>\n",
       "      <td>9253</td>\n",
       "      <td>Steins;Gate</td>\n",
       "      <td>Sci-Fi, Thriller</td>\n",
       "      <td>TV</td>\n",
       "      <td>24</td>\n",
       "      <td>9.17</td>\n",
       "      <td>673572</td>\n",
       "    </tr>\n",
       "    <tr>\n",
       "      <th>4</th>\n",
       "      <td>9969</td>\n",
       "      <td>Gintama&amp;#039;</td>\n",
       "      <td>Action, Comedy, Historical, Parody, Samurai, S...</td>\n",
       "      <td>TV</td>\n",
       "      <td>51</td>\n",
       "      <td>9.16</td>\n",
       "      <td>151266</td>\n",
       "    </tr>\n",
       "    <tr>\n",
       "      <th>...</th>\n",
       "      <td>...</td>\n",
       "      <td>...</td>\n",
       "      <td>...</td>\n",
       "      <td>...</td>\n",
       "      <td>...</td>\n",
       "      <td>...</td>\n",
       "      <td>...</td>\n",
       "    </tr>\n",
       "    <tr>\n",
       "      <th>12289</th>\n",
       "      <td>9316</td>\n",
       "      <td>Toushindai My Lover: Minami tai Mecha-Minami</td>\n",
       "      <td>Hentai</td>\n",
       "      <td>OVA</td>\n",
       "      <td>1</td>\n",
       "      <td>4.15</td>\n",
       "      <td>211</td>\n",
       "    </tr>\n",
       "    <tr>\n",
       "      <th>12290</th>\n",
       "      <td>5543</td>\n",
       "      <td>Under World</td>\n",
       "      <td>Hentai</td>\n",
       "      <td>OVA</td>\n",
       "      <td>1</td>\n",
       "      <td>4.28</td>\n",
       "      <td>183</td>\n",
       "    </tr>\n",
       "    <tr>\n",
       "      <th>12291</th>\n",
       "      <td>5621</td>\n",
       "      <td>Violence Gekiga David no Hoshi</td>\n",
       "      <td>Hentai</td>\n",
       "      <td>OVA</td>\n",
       "      <td>4</td>\n",
       "      <td>4.88</td>\n",
       "      <td>219</td>\n",
       "    </tr>\n",
       "    <tr>\n",
       "      <th>12292</th>\n",
       "      <td>6133</td>\n",
       "      <td>Violence Gekiga Shin David no Hoshi: Inma Dens...</td>\n",
       "      <td>Hentai</td>\n",
       "      <td>OVA</td>\n",
       "      <td>1</td>\n",
       "      <td>4.98</td>\n",
       "      <td>175</td>\n",
       "    </tr>\n",
       "    <tr>\n",
       "      <th>12293</th>\n",
       "      <td>26081</td>\n",
       "      <td>Yasuji no Pornorama: Yacchimae!!</td>\n",
       "      <td>Hentai</td>\n",
       "      <td>Movie</td>\n",
       "      <td>1</td>\n",
       "      <td>5.46</td>\n",
       "      <td>142</td>\n",
       "    </tr>\n",
       "  </tbody>\n",
       "</table>\n",
       "<p>12294 rows × 7 columns</p>\n",
       "</div>"
      ],
      "text/plain": [
       "       anime_id                                               name  \\\n",
       "0         32281                                     Kimi no Na wa.   \n",
       "1          5114                   Fullmetal Alchemist: Brotherhood   \n",
       "2         28977                                           Gintama°   \n",
       "3          9253                                        Steins;Gate   \n",
       "4          9969                                      Gintama&#039;   \n",
       "...         ...                                                ...   \n",
       "12289      9316       Toushindai My Lover: Minami tai Mecha-Minami   \n",
       "12290      5543                                        Under World   \n",
       "12291      5621                     Violence Gekiga David no Hoshi   \n",
       "12292      6133  Violence Gekiga Shin David no Hoshi: Inma Dens...   \n",
       "12293     26081                   Yasuji no Pornorama: Yacchimae!!   \n",
       "\n",
       "                                                   genre   type episodes  \\\n",
       "0                   Drama, Romance, School, Supernatural  Movie        1   \n",
       "1      Action, Adventure, Drama, Fantasy, Magic, Mili...     TV       64   \n",
       "2      Action, Comedy, Historical, Parody, Samurai, S...     TV       51   \n",
       "3                                       Sci-Fi, Thriller     TV       24   \n",
       "4      Action, Comedy, Historical, Parody, Samurai, S...     TV       51   \n",
       "...                                                  ...    ...      ...   \n",
       "12289                                             Hentai    OVA        1   \n",
       "12290                                             Hentai    OVA        1   \n",
       "12291                                             Hentai    OVA        4   \n",
       "12292                                             Hentai    OVA        1   \n",
       "12293                                             Hentai  Movie        1   \n",
       "\n",
       "      rating  members  \n",
       "0       9.37   200630  \n",
       "1       9.26   793665  \n",
       "2       9.25   114262  \n",
       "3       9.17   673572  \n",
       "4       9.16   151266  \n",
       "...      ...      ...  \n",
       "12289   4.15      211  \n",
       "12290   4.28      183  \n",
       "12291   4.88      219  \n",
       "12292   4.98      175  \n",
       "12293   5.46      142  \n",
       "\n",
       "[12294 rows x 7 columns]"
      ]
     },
     "execution_count": 110,
     "metadata": {},
     "output_type": "execute_result"
    }
   ],
   "source": [
    "df.fillna(\"\")"
   ]
  },
  {
   "cell_type": "code",
   "execution_count": 112,
   "id": "963a3495-f750-4088-ae8e-aaf848ab9467",
   "metadata": {},
   "outputs": [
    {
     "name": "stdout",
     "output_type": "stream",
     "text": [
      "<class 'pandas.core.frame.DataFrame'>\n",
      "RangeIndex: 12294 entries, 0 to 12293\n",
      "Data columns (total 7 columns):\n",
      " #   Column    Non-Null Count  Dtype  \n",
      "---  ------    --------------  -----  \n",
      " 0   anime_id  12294 non-null  int64  \n",
      " 1   name      12294 non-null  object \n",
      " 2   genre     12232 non-null  object \n",
      " 3   type      12269 non-null  object \n",
      " 4   episodes  12294 non-null  object \n",
      " 5   rating    12064 non-null  float64\n",
      " 6   members   12294 non-null  int64  \n",
      "dtypes: float64(1), int64(2), object(4)\n",
      "memory usage: 672.5+ KB\n"
     ]
    }
   ],
   "source": [
    "df.info()"
   ]
  },
  {
   "cell_type": "code",
   "execution_count": 45,
   "id": "46234d64-71c1-458b-aaa0-cafa1eaef48a",
   "metadata": {},
   "outputs": [],
   "source": [
    "from sklearn.feature_extraction.text import CountVectorizer\n",
    "from sklearn.metrics.pairwise import cosine_similarity\n",
    "from sklearn.model_selection import train_test_split\n",
    "import numpy as np\n",
    "from sklearn.metrics import classification_report"
   ]
  },
  {
   "cell_type": "code",
   "execution_count": 5,
   "id": "31b28bca-5ff2-4ee0-8827-8486e7dc4948",
   "metadata": {},
   "outputs": [],
   "source": [
    "def load_data(file_path):\n",
    "    try:\n",
    "        anime_df = pd.read_csv(file_path)\n",
    "        print(\"Dataset loaded successfully!\")\n",
    "        print(anime_df.head())\n",
    "        return anime_df\n",
    "    except Exception as e:\n",
    "        print(f\"Error loading data: {e}\")\n",
    "        return None"
   ]
  },
  {
   "cell_type": "code",
   "execution_count": 7,
   "id": "99bb8d83-1479-4842-9e6f-2e24c8d2c218",
   "metadata": {},
   "outputs": [
    {
     "name": "stdout",
     "output_type": "stream",
     "text": [
      "Dataset loaded successfully!\n",
      "   anime_id                              name  \\\n",
      "0     32281                    Kimi no Na wa.   \n",
      "1      5114  Fullmetal Alchemist: Brotherhood   \n",
      "2     28977                          Gintama°   \n",
      "3      9253                       Steins;Gate   \n",
      "4      9969                     Gintama&#039;   \n",
      "\n",
      "                                               genre   type episodes  rating  \\\n",
      "0               Drama, Romance, School, Supernatural  Movie        1    9.37   \n",
      "1  Action, Adventure, Drama, Fantasy, Magic, Mili...     TV       64    9.26   \n",
      "2  Action, Comedy, Historical, Parody, Samurai, S...     TV       51    9.25   \n",
      "3                                   Sci-Fi, Thriller     TV       24    9.17   \n",
      "4  Action, Comedy, Historical, Parody, Samurai, S...     TV       51    9.16   \n",
      "\n",
      "   members  \n",
      "0   200630  \n",
      "1   793665  \n",
      "2   114262  \n",
      "3   673572  \n",
      "4   151266  \n"
     ]
    }
   ],
   "source": [
    "\n",
    "file_path = (r\"C:\\Users\\basav\\Downloads\\Recommendation System\\Recommendation System\\anime.csv\")\n",
    "anime_df = load_data(file_path)\n"
   ]
  },
  {
   "cell_type": "code",
   "execution_count": 11,
   "id": "6835cb90-cad0-4950-936a-ca0d7b265472",
   "metadata": {},
   "outputs": [],
   "source": [
    "def preprocess_data(df):\n",
    "    print(\"Preprocessing data...\")\n",
    "    df = df.dropna(subset=['name', 'genre', 'rating'])\n",
    "    df['genre'] = df['genre'].fillna('Unknown')\n",
    "    df['rating'] = df['rating'].fillna(df['rating'].mean())\n",
    "    print(f\"Remaining rows after dropping missing data: {len(df)}\")\n",
    "    return df"
   ]
  },
  {
   "cell_type": "code",
   "execution_count": 9,
   "id": "c9e766e1-2565-4f6f-a3be-15183eb6cbbf",
   "metadata": {},
   "outputs": [
    {
     "data": {
      "text/plain": [
       "Index(['anime_id', 'name', 'genre', 'type', 'episodes', 'rating', 'members'], dtype='object')"
      ]
     },
     "execution_count": 9,
     "metadata": {},
     "output_type": "execute_result"
    }
   ],
   "source": [
    "df.columns"
   ]
  },
  {
   "cell_type": "code",
   "execution_count": 13,
   "id": "9379a438-3fa2-45ef-9817-29975401ab42",
   "metadata": {},
   "outputs": [
    {
     "name": "stdout",
     "output_type": "stream",
     "text": [
      "Preprocessing data...\n",
      "Remaining rows after dropping missing data: 12017\n"
     ]
    },
    {
     "name": "stderr",
     "output_type": "stream",
     "text": [
      "C:\\Users\\basav\\AppData\\Local\\Temp\\ipykernel_13276\\4267983683.py:4: SettingWithCopyWarning: \n",
      "A value is trying to be set on a copy of a slice from a DataFrame.\n",
      "Try using .loc[row_indexer,col_indexer] = value instead\n",
      "\n",
      "See the caveats in the documentation: https://pandas.pydata.org/pandas-docs/stable/user_guide/indexing.html#returning-a-view-versus-a-copy\n",
      "  df['genre'] = df['genre'].fillna('Unknown')\n",
      "C:\\Users\\basav\\AppData\\Local\\Temp\\ipykernel_13276\\4267983683.py:5: SettingWithCopyWarning: \n",
      "A value is trying to be set on a copy of a slice from a DataFrame.\n",
      "Try using .loc[row_indexer,col_indexer] = value instead\n",
      "\n",
      "See the caveats in the documentation: https://pandas.pydata.org/pandas-docs/stable/user_guide/indexing.html#returning-a-view-versus-a-copy\n",
      "  df['rating'] = df['rating'].fillna(df['rating'].mean())\n"
     ]
    }
   ],
   "source": [
    "anime_df = preprocess_data(anime_df)"
   ]
  },
  {
   "cell_type": "code",
   "execution_count": 15,
   "id": "b70afa97-30e2-4e11-9e82-d282035902d2",
   "metadata": {},
   "outputs": [],
   "source": [
    "def combine_features(row):\n",
    "    return row['genre'] + \" \" + str(row['rating'])"
   ]
  },
  {
   "cell_type": "code",
   "execution_count": 17,
   "id": "ad21783d-82e7-4592-a492-45643e61e99d",
   "metadata": {},
   "outputs": [],
   "source": [
    "def extract_features(df):\n",
    "    print(\"Extracting features...\")\n",
    "    df['combined_features'] = df.apply(combine_features, axis=1)\n",
    "    return df"
   ]
  },
  {
   "cell_type": "code",
   "execution_count": 19,
   "id": "088a52b5-1667-4a24-8e94-6b3a0d1eb1b5",
   "metadata": {},
   "outputs": [
    {
     "name": "stdout",
     "output_type": "stream",
     "text": [
      "Extracting features...\n"
     ]
    }
   ],
   "source": [
    "anime_df = extract_features(anime_df)"
   ]
  },
  {
   "cell_type": "code",
   "execution_count": 21,
   "id": "0a0ec9d3-992e-4b82-933a-beb13d5aabd7",
   "metadata": {},
   "outputs": [
    {
     "name": "stdout",
     "output_type": "stream",
     "text": [
      "Feature extraction complete!\n"
     ]
    }
   ],
   "source": [
    "vectorizer = CountVectorizer()\n",
    "feature_matrix = vectorizer.fit_transform(anime_df['combined_features'])\n",
    "print(\"Feature extraction complete!\")"
   ]
  },
  {
   "cell_type": "code",
   "execution_count": 23,
   "id": "3372c966-a5e0-4fd6-93ea-ccdd2468efd1",
   "metadata": {},
   "outputs": [
    {
     "name": "stdout",
     "output_type": "stream",
     "text": [
      "Cosine similarity matrix calculated!\n"
     ]
    }
   ],
   "source": [
    "cosine_sim = cosine_similarity(feature_matrix, feature_matrix)\n",
    "print(\"Cosine similarity matrix calculated!\")"
   ]
  },
  {
   "cell_type": "code",
   "execution_count": 29,
   "id": "b2286d34-0197-43e7-aadd-83311ffe4e4c",
   "metadata": {},
   "outputs": [],
   "source": [
    "def recommend_anime(anime_title, df, cosine_sim, top_n=10):\n",
    "    try:\n",
    "        idx = df[df['name'] == anime_title].index[0]\n",
    "        sim_scores = list(enumerate(cosine_sim[idx]))\n",
    "        sim_scores = sorted(sim_scores, key=lambda x: x[1], reverse=True)\n",
    "        sim_indices = [i[0] for i in sim_scores[1:top_n+1]]\n",
    "        return df.iloc[sim_indices][['name', 'genre', 'rating']]\n",
    "    except IndexError:\n",
    "        print(\"Anime title not found in the dataset.\")\n",
    "        return pd.DataFrame()\n",
    "        "
   ]
  },
  {
   "cell_type": "code",
   "execution_count": 31,
   "id": "7f301a83-2ee7-4d1f-bdd9-d06a58c1d1a0",
   "metadata": {},
   "outputs": [
    {
     "name": "stdout",
     "output_type": "stream",
     "text": [
      "Anime similar to 'Naruto':\n",
      "                                                   name  \\\n",
      "1573  Naruto: Shippuuden Movie 3 - Hi no Ishi wo Tsu...   \n",
      "486                            Boruto: Naruto the Movie   \n",
      "615                                  Naruto: Shippuuden   \n",
      "1103  Boruto: Naruto the Movie - Naruto ga Hokage ni...   \n",
      "1343                                        Naruto x UT   \n",
      "1472        Naruto: Shippuuden Movie 4 - The Lost Tower   \n",
      "2458               Naruto Shippuuden: Sunny Side Battle   \n",
      "2997  Naruto Soyokazeden Movie: Naruto to Mashin to ...   \n",
      "7867                                    Iron Virgin Jun   \n",
      "1930                                  Dragon Ball Super   \n",
      "\n",
      "                                                  genre  rating  \n",
      "1573  Action, Comedy, Martial Arts, Shounen, Super P...    7.50  \n",
      "486   Action, Comedy, Martial Arts, Shounen, Super P...    8.03  \n",
      "615   Action, Comedy, Martial Arts, Shounen, Super P...    7.94  \n",
      "1103  Action, Comedy, Martial Arts, Shounen, Super P...    7.68  \n",
      "1343  Action, Comedy, Martial Arts, Shounen, Super P...    7.58  \n",
      "1472  Action, Comedy, Martial Arts, Shounen, Super P...    7.53  \n",
      "2458  Action, Comedy, Martial Arts, Shounen, Super P...    7.26  \n",
      "2997  Action, Comedy, Martial Arts, Shounen, Super P...    7.11  \n",
      "7867  Action, Comedy, Fantasy, Martial Arts, Super P...    4.81  \n",
      "1930  Action, Adventure, Comedy, Fantasy, Martial Ar...    7.40  \n"
     ]
    }
   ],
   "source": [
    "target_anime = \"Naruto\"\n",
    "recommended_anime = recommend_anime(target_anime, anime_df, cosine_sim)\n",
    "print(f\"Anime similar to '{target_anime}':\")\n",
    "print(recommended_anime)"
   ]
  },
  {
   "cell_type": "code",
   "execution_count": 47,
   "id": "4b0dd38c-d0cd-4370-ba05-8783f0788f0b",
   "metadata": {},
   "outputs": [],
   "source": [
    "def create_labels(df, rating_threshold=7.0):\n",
    "    df['relevant'] = df['rating'].apply(lambda x: 1 if x >= rating_threshold else 0)\n",
    "    return df"
   ]
  },
  {
   "cell_type": "code",
   "execution_count": 51,
   "id": "afdc5a77-8f66-4c88-b501-fbdf162ce52b",
   "metadata": {},
   "outputs": [
    {
     "name": "stdout",
     "output_type": "stream",
     "text": [
      "                               name  rating  relevant\n",
      "0                    Kimi no Na wa.    9.37         1\n",
      "1  Fullmetal Alchemist: Brotherhood    9.26         1\n",
      "2                          Gintama°    9.25         1\n",
      "3                       Steins;Gate    9.17         1\n",
      "4                     Gintama&#039;    9.16         1\n"
     ]
    }
   ],
   "source": [
    "anime_df = create_labels(anime_df)\n",
    "print(anime_df[['name', 'rating', 'relevant']].head())"
   ]
  },
  {
   "cell_type": "code",
   "execution_count": 53,
   "id": "e4b17225-38a8-4b08-b59f-f329094baefd",
   "metadata": {},
   "outputs": [],
   "source": [
    "train_df, test_df = train_test_split(anime_df, test_size=0.2, random_state=42)"
   ]
  },
  {
   "cell_type": "code",
   "execution_count": 71,
   "id": "4a16f7c2-8db8-41bf-b125-816b6a152073",
   "metadata": {},
   "outputs": [],
   "source": [
    "def get_recommendation_labels(test_df, train_df, cosine_sim, threshold=0.5):\n",
    "    y_true = []\n",
    "    y_pred = []"
   ]
  },
  {
   "cell_type": "code",
   "execution_count": 73,
   "id": "7109e166-00e4-4f8c-9af3-cb8e4f98de70",
   "metadata": {},
   "outputs": [],
   "source": [
    "for _, row in test_df.iterrows():\n",
    "        anime_title = row['name']\n",
    "        true_label = row['relevant']"
   ]
  },
  {
   "cell_type": "code",
   "execution_count": 81,
   "id": "7de3661f-020f-4551-9379-891eafacddf8",
   "metadata": {},
   "outputs": [],
   "source": [
    "def get_recommendation_labels(test_df, train_df, cosine_sim, threshold=0.5):\n",
    "    y_true = []  \n",
    "    y_pred = [] \n",
    "\n",
    "    for _, row in test_df.iterrows():\n",
    "        anime_title = row['name']\n",
    "        true_label = row['relevant']  \n",
    "\n",
    "        try:\n",
    "            if anime_title in train_df['name'].values:\n",
    "                idx = train_df[train_df['name'] == anime_title].index[0]\n",
    "                recommended = [\n",
    "                    1 if sim_score[1] >= threshold else 0 for sim_score in sim_scores[1:11]\n",
    "                ]\n",
    "                y_true.append(true_label)\n",
    "                y_pred.append(1 if sum(recommended) > 0 else 0)  \n",
    "            else:\n",
    "                y_true.append(true_label)\n",
    "                y_pred.append(0)\n",
    "\n",
    "        except Exception as e:\n",
    "            print(f\"Error processing {anime_title}: {e}\")\n",
    "            y_true.append(true_label)\n",
    "            y_pred.append(0)  \n",
    "\n",
    "    return y_true, y_pred\n",
    "\n"
   ]
  },
  {
   "cell_type": "code",
   "execution_count": 102,
   "id": "f69e7568-1f2a-4a2f-80be-9533ac8d9668",
   "metadata": {},
   "outputs": [
    {
     "name": "stdout",
     "output_type": "stream",
     "text": [
      "Classification Report:\n",
      "              precision    recall  f1-score   support\n",
      "\n",
      "           0       0.98      0.04      0.07      1609\n",
      "           1       0.34      1.00      0.51       795\n",
      "\n",
      "    accuracy                           0.36      2404\n",
      "   macro avg       0.66      0.52      0.29      2404\n",
      "weighted avg       0.77      0.36      0.22      2404\n",
      "\n"
     ]
    }
   ],
   "source": [
    "from sklearn.metrics import classification_report\n",
    "print(\"Classification Report:\")\n",
    "print(classification_report(y_true, y_pred))"
   ]
  },
  {
   "cell_type": "markdown",
   "id": "d7be9aeb-e34a-4a2a-bc92-2cc45230d0e0",
   "metadata": {},
   "source": [
    "#Item-Based Collaborative Filtering:\n",
    "Recommends items based on the similarity between users.\n",
    "Users who have similar preferences will like similar items.\n",
    "\n",
    "#Item-Based Collaborative Filtering:\n",
    "Recommends items based on the similarity between items.\n",
    "Items that are similar (frequently rated/purchased together) will appeal to users."
   ]
  },
  {
   "cell_type": "markdown",
   "id": "9ef4a948-8951-4acb-9a8c-42c4e7c77c06",
   "metadata": {},
   "source": [
    "#Collaborative Filtering is a popular recommendation technique that predicts user preferences based on historical interactions between users and items. It relies on the idea that users who have agreed in the past will agree again in the future.\n",
    "\n",
    "Input: A user-item interaction matrix, where rows represent users and columns represent items (e.g., movies, products, songs). Entries in the matrix represent:\n",
    "\n",
    "Explicit feedback: Ratings (e.g., 1-5 stars).\n",
    "Implicit feedback: Interactions like purchases, clicks, or views."
   ]
  }
 ],
 "metadata": {
  "kernelspec": {
   "display_name": "Python 3 (ipykernel)",
   "language": "python",
   "name": "python3"
  },
  "language_info": {
   "codemirror_mode": {
    "name": "ipython",
    "version": 3
   },
   "file_extension": ".py",
   "mimetype": "text/x-python",
   "name": "python",
   "nbconvert_exporter": "python",
   "pygments_lexer": "ipython3",
   "version": "3.12.4"
  }
 },
 "nbformat": 4,
 "nbformat_minor": 5
}
