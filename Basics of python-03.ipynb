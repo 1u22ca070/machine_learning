{
 "cells": [
  {
   "cell_type": "code",
   "execution_count": null,
   "id": "7d4bc8e1-8029-4ca5-91ce-1f3e7afbe04b",
   "metadata": {},
   "outputs": [],
   "source": [
    "# Exercise 1: Prime Numbers"
   ]
  },
  {
   "cell_type": "code",
   "execution_count": 5,
   "id": "f8591074-837d-4d5e-b21e-a729077baeb7",
   "metadata": {},
   "outputs": [
    {
     "name": "stdin",
     "output_type": "stream",
     "text": [
      "enter number: -5\n"
     ]
    },
    {
     "name": "stdout",
     "output_type": "stream",
     "text": [
      "-5 is not a prime number\n"
     ]
    }
   ],
   "source": [
    "num=int(input(\"enter number:\"))\n",
    "if num >=1:\n",
    "        print(num,\"is a prime number\")\n",
    "else:\n",
    "    print(num,\"is not a prime number\")"
   ]
  },
  {
   "cell_type": "code",
   "execution_count": 6,
   "id": "b694cffe-c333-47e3-b158-3f73c0fae791",
   "metadata": {},
   "outputs": [],
   "source": [
    "# Exercise 2: Product of Random Numbers\n"
   ]
  },
  {
   "cell_type": "code",
   "execution_count": 15,
   "id": "044a79a4-a749-42d0-9fae-d2ecedcc981a",
   "metadata": {},
   "outputs": [
    {
     "name": "stdin",
     "output_type": "stream",
     "text": [
      "what is 5*10? 25\n"
     ]
    },
    {
     "name": "stdout",
     "output_type": "stream",
     "text": [
      "50 is correct answer\n"
     ]
    }
   ],
   "source": [
    "import random\n",
    "num1=random.randint(1,10)\n",
    "num2=random.randint(1,10)\n",
    "correct_answer=num1*num2\n",
    "user_answer=int(input(f'what is {num1}*{num2}?'))\n",
    "if user_answer==correct_answer:\n",
    "    print('correct answer')\n",
    "else:\n",
    "    print(correct_answer,'is correct answer')\n"
   ]
  },
  {
   "cell_type": "code",
   "execution_count": 11,
   "id": "d12206f0-9c74-4a3f-aad5-3daf5495d31f",
   "metadata": {},
   "outputs": [],
   "source": [
    "# Exercise 3: Squares of Even/Odd Numbers"
   ]
  },
  {
   "cell_type": "code",
   "execution_count": 14,
   "id": "53691421-2da8-43d4-b5aa-63ac3ecec975",
   "metadata": {},
   "outputs": [
    {
     "name": "stdout",
     "output_type": "stream",
     "text": [
      "the square of 2is 4\n",
      "the square of 4is 16\n",
      "the square of 6is 36\n",
      "the square of 8is 64\n",
      "the square of 10is 100\n"
     ]
    }
   ],
   "source": [
    "start = 1\n",
    "end = 10\n",
    "for number in range(start,end+1):\n",
    "    if number %2 == 0:\n",
    "        square = number**2\n",
    "        print(f\"the square of {number}is {square}\")"
   ]
  },
  {
   "cell_type": "code",
   "execution_count": 16,
   "id": "16489058-29ab-42e9-93b3-0d6770101683",
   "metadata": {},
   "outputs": [],
   "source": [
    "# Exercise 4: Word counter"
   ]
  },
  {
   "cell_type": "code",
   "execution_count": 18,
   "id": "2c45a669-35a2-43ee-8a79-42c55b7aa374",
   "metadata": {},
   "outputs": [
    {
     "name": "stdout",
     "output_type": "stream",
     "text": [
      "{'i': 1, 'am': 1, 'currently': 1, 'doing': 1, 'data': 1, 'science': 1, 'course': 1, 'in': 1, 'excelr': 1, '.': 1}\n"
     ]
    }
   ],
   "source": [
    "x=\"i am currently doing data science course in excelr .\"\n",
    "l=x.split()\n",
    "d={}\n",
    "for i in l:\n",
    "    d[i]=d.get(i,0)+1\n",
    "print(d)"
   ]
  },
  {
   "cell_type": "code",
   "execution_count": 19,
   "id": "f58dca78-89f2-4862-bd45-dd7f4b777085",
   "metadata": {},
   "outputs": [],
   "source": [
    "# Exercise 5: Check for Palindrome"
   ]
  },
  {
   "cell_type": "code",
   "execution_count": 21,
   "id": "c48d3d1f-f2c7-43a4-b275-84d61109eeda",
   "metadata": {},
   "outputs": [
    {
     "name": "stdin",
     "output_type": "stream",
     "text": [
      "enter any string : car\n"
     ]
    },
    {
     "name": "stdout",
     "output_type": "stream",
     "text": [
      "it is not a pallindrome\n"
     ]
    }
   ],
   "source": [
    "x=input(\"enter any string :\")\n",
    "y=x[::-1]\n",
    "if (x==y):\n",
    "    print(\"it is a pallindrome string\")\n",
    "else:\n",
    "    print(\"it is not a pallindrome\")\n"
   ]
  },
  {
   "cell_type": "code",
   "execution_count": null,
   "id": "94feb85c-35c4-4365-8b4e-963e0d436d28",
   "metadata": {},
   "outputs": [],
   "source": []
  }
 ],
 "metadata": {
  "kernelspec": {
   "display_name": "Python 3 (ipykernel)",
   "language": "python",
   "name": "python3"
  },
  "language_info": {
   "codemirror_mode": {
    "name": "ipython",
    "version": 3
   },
   "file_extension": ".py",
   "mimetype": "text/x-python",
   "name": "python",
   "nbconvert_exporter": "python",
   "pygments_lexer": "ipython3",
   "version": "3.13.5"
  }
 },
 "nbformat": 4,
 "nbformat_minor": 5
}
