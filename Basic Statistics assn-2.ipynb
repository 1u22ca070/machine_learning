{
 "cells": [
  {
   "cell_type": "code",
   "execution_count": 4,
   "id": "5938c73f-aacb-46de-8d3f-3719637e1628",
   "metadata": {},
   "outputs": [],
   "source": [
    "import numpy as np\n",
    "from scipy.stats import t,norm"
   ]
  },
  {
   "cell_type": "code",
   "execution_count": 10,
   "id": "685576d3-d885-461e-ae0b-d92798fd0943",
   "metadata": {},
   "outputs": [
    {
     "data": {
      "text/plain": [
       "15"
      ]
     },
     "execution_count": 10,
     "metadata": {},
     "output_type": "execute_result"
    }
   ],
   "source": [
    "data=[1.13, 1.55, 1.43, 0.92, 1.25, 1.36, 1.32, 0.85, 1.07, 1.48, 1.20, 1.33, 1.18, 1.22, 1.29]\n",
    "n=len(data)\n",
    "confidence_level=0.99\n",
    "n"
   ]
  },
  {
   "cell_type": "code",
   "execution_count": 11,
   "id": "bd605950-d8b9-4650-b5f4-616fabe29644",
   "metadata": {},
   "outputs": [
    {
     "data": {
      "text/plain": [
       "np.float64(2.976842734370834)"
      ]
     },
     "execution_count": 11,
     "metadata": {},
     "output_type": "execute_result"
    }
   ],
   "source": [
    "sample_mean=np.mean(data)\n",
    "sample_std=np.std(data,ddof=1)\n",
    "t_value=t.ppf((1+confidence_level)/2,df=n-1)\n",
    "t_value"
   ]
  },
  {
   "cell_type": "code",
   "execution_count": null,
   "id": "3b162563-8b21-4abe-a2c9-525e5b441e3b",
   "metadata": {},
   "outputs": [],
   "source": [
    "# Confidence internal using known population standard deviation"
   ]
  },
  {
   "cell_type": "code",
   "execution_count": 12,
   "id": "a2400689-bc0e-4d28-a33c-2b014e912632",
   "metadata": {},
   "outputs": [
    {
     "data": {
      "text/plain": [
       "np.float64(0.14846932822817596)"
      ]
     },
     "execution_count": 12,
     "metadata": {},
     "output_type": "execute_result"
    }
   ],
   "source": [
    "margin_of_error_a=t_value*(sample_std/np.sqrt(n))\n",
    "margin_of_error_a"
   ]
  },
  {
   "cell_type": "code",
   "execution_count": 14,
   "id": "0609873d-1770-402f-be0d-c3757c6696de",
   "metadata": {},
   "outputs": [
    {
     "data": {
      "text/plain": [
       "(np.float64(1.0901973384384906), np.float64(1.3871359948948425))"
      ]
     },
     "execution_count": 14,
     "metadata": {},
     "output_type": "execute_result"
    }
   ],
   "source": [
    "ci_a=(sample_mean-margin_of_error_a,sample_mean+margin_of_error_a)\n",
    "ci_a"
   ]
  },
  {
   "cell_type": "code",
   "execution_count": null,
   "id": "4eb2fc21-98ab-4cc0-a247-12ce80d2834e",
   "metadata": {},
   "outputs": [],
   "source": [
    "#confidence inteterval using known population standard deviation"
   ]
  },
  {
   "cell_type": "code",
   "execution_count": 17,
   "id": "78f6cba7-8bf8-431a-854d-edeaed3ba5d6",
   "metadata": {},
   "outputs": [
    {
     "data": {
      "text/plain": [
       "np.float64(2.5758293035489004)"
      ]
     },
     "execution_count": 17,
     "metadata": {},
     "output_type": "execute_result"
    }
   ],
   "source": [
    "population_std=0.2\n",
    "z_value=norm.ppf((1+confidence_level)/2)\n",
    "z_value"
   ]
  },
  {
   "cell_type": "code",
   "execution_count": 21,
   "id": "8e3673ac-30dc-4019-bd1c-c64b83380ddc",
   "metadata": {},
   "outputs": [
    {
     "data": {
      "text/plain": [
       "(np.float64(1.1056514133957607), np.float64(1.3716819199375725))"
      ]
     },
     "execution_count": 21,
     "metadata": {},
     "output_type": "execute_result"
    }
   ],
   "source": [
    "margin_error_b=z_value*(population_std/np.sqrt(n))\n",
    "ci_b=(sample_mean-margin_error_b,sample_mean+margin_error_b)\n",
    "ci_b"
   ]
  },
  {
   "cell_type": "code",
   "execution_count": 22,
   "id": "07ff7e5e-7277-4631-8083-13a47f1516f5",
   "metadata": {},
   "outputs": [
    {
     "name": "stdout",
     "output_type": "stream",
     "text": [
      "sample mean: 1.2386666666666666\n",
      "sample standard deviation: 0.19316412956959936\n",
      "99% confidence_interval (using sample std): (np.float64(1.0901973384384906), np.float64(1.3871359948948425))\n",
      "99% confidence_interval (using population std): (np.float64(1.1056514133957607), np.float64(1.3716819199375725))\n"
     ]
    }
   ],
   "source": [
    "print('sample mean:',sample_mean)\n",
    "print('sample standard deviation:',sample_std)\n",
    "print('99% confidence_interval (using sample std):',ci_a)\n",
    "print('99% confidence_interval (using population std):',ci_b)"
   ]
  }
 ],
 "metadata": {
  "kernelspec": {
   "display_name": "Python 3 (ipykernel)",
   "language": "python",
   "name": "python3"
  },
  "language_info": {
   "codemirror_mode": {
    "name": "ipython",
    "version": 3
   },
   "file_extension": ".py",
   "mimetype": "text/x-python",
   "name": "python",
   "nbconvert_exporter": "python",
   "pygments_lexer": "ipython3",
   "version": "3.13.5"
  }
 },
 "nbformat": 4,
 "nbformat_minor": 5
}
